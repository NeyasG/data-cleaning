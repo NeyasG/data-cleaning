{
 "cells": [
  {
   "cell_type": "code",
   "execution_count": 7,
   "metadata": {},
   "outputs": [],
   "source": [
    "import pandas"
   ]
  },
  {
   "cell_type": "code",
   "execution_count": 11,
   "metadata": {},
   "outputs": [],
   "source": [
    "# Read file into dataframe\n",
    "nashville_housing_df = pandas.read_csv(\"nashville_housing_data_raw.csv\")\n",
    "\n",
    "# Split Owner Address into 3 columns\n",
    "nashville_housing_df[[\"StreetName&Number\", \"City\", \"State\"]] = nashville_housing_df[\"OwnerAddress\"].str.split(\",\", expand = True)\n",
    "\n",
    "# Write cleaned csv file\n",
    "nashville_housing_df.to_csv(\"nashville_housing_data_cleaned.csv\")"
   ]
  },
  {
   "cell_type": "code",
   "execution_count": 15,
   "metadata": {},
   "outputs": [
    {
     "name": "stdout",
     "output_type": "stream",
     "text": [
      "(56477, 22)\n"
     ]
    }
   ],
   "source": [
    "#Checking for duplicates\n",
    "def check_for_duplicates(dataframe, columns):\n",
    "    pass"
   ]
  }
 ],
 "metadata": {
  "kernelspec": {
   "display_name": "venv",
   "language": "python",
   "name": "python3"
  },
  "language_info": {
   "codemirror_mode": {
    "name": "ipython",
    "version": 3
   },
   "file_extension": ".py",
   "mimetype": "text/x-python",
   "name": "python",
   "nbconvert_exporter": "python",
   "pygments_lexer": "ipython3",
   "version": "3.10.12"
  }
 },
 "nbformat": 4,
 "nbformat_minor": 2
}
