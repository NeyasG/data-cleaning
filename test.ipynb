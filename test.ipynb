{
 "cells": [
  {
   "cell_type": "code",
   "execution_count": 3,
   "metadata": {},
   "outputs": [
    {
     "name": "stdout",
     "output_type": "stream",
     "text": [
      "Hello Neyas Test\n"
     ]
    }
   ],
   "source": [
    "import sys\n",
    "\n",
    "test = (\"Hello \" + \"Neyas\" +\" Test\")\n",
    "\n",
    "print(test)"
   ]
  },
  {
   "cell_type": "code",
   "execution_count": null,
   "metadata": {},
   "outputs": [],
   "source": []
  },
  {
   "cell_type": "markdown",
   "metadata": {},
   "source": [
    "# Testing Changes 2"
   ]
  },
  {
   "cell_type": "markdown",
   "metadata": {},
   "source": [
    "**Testing commits to github** \n",
    "\n",
    "Testing python library imports"
   ]
  },
  {
   "cell_type": "code",
   "execution_count": 4,
   "metadata": {},
   "outputs": [
    {
     "name": "stdout",
     "output_type": "stream",
     "text": [
      "['c:\\\\Users\\\\henri\\\\OneDrive\\\\Documents\\\\GitHub\\\\data-cleaning', 'c:\\\\Users\\\\henri\\\\anaconda3\\\\python39.zip', 'c:\\\\Users\\\\henri\\\\anaconda3\\\\DLLs', 'c:\\\\Users\\\\henri\\\\anaconda3\\\\lib', 'c:\\\\Users\\\\henri\\\\anaconda3', '', 'c:\\\\Users\\\\henri\\\\anaconda3\\\\lib\\\\site-packages', 'c:\\\\Users\\\\henri\\\\anaconda3\\\\lib\\\\site-packages\\\\win32', 'c:\\\\Users\\\\henri\\\\anaconda3\\\\lib\\\\site-packages\\\\win32\\\\lib', 'c:\\\\Users\\\\henri\\\\anaconda3\\\\lib\\\\site-packages\\\\Pythonwin', 'c:\\\\Users\\\\henri\\\\anaconda3\\\\lib\\\\site-packages\\\\IPython\\\\extensions', 'C:\\\\Users\\\\henri\\\\.ipython']\n"
     ]
    }
   ],
   "source": [
    "print(sys.path)"
   ]
  }
 ],
 "metadata": {
  "kernelspec": {
   "display_name": "Python 3",
   "language": "python",
   "name": "python3"
  },
  "language_info": {
   "codemirror_mode": {
    "name": "ipython",
    "version": 3
   },
   "file_extension": ".py",
   "mimetype": "text/x-python",
   "name": "python",
   "nbconvert_exporter": "python",
   "pygments_lexer": "ipython3",
   "version": "3.9.13"
  }
 },
 "nbformat": 4,
 "nbformat_minor": 2
}
